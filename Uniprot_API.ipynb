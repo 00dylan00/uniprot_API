{
 "cells": [
  {
   "cell_type": "markdown",
   "metadata": {},
   "source": [
    "# Programmatic access to UniProt using Python"
   ]
  },
  {
   "cell_type": "markdown",
   "metadata": {},
   "source": [
    "All code here is based on EMBL-EBI webinar of [Programmatic access to UniProt using Python](https://www.youtube.com/watch?v=-uoKtReLGVs) recorded on 17/11/2021 given by Aurélien Luciani. \n",
    "\n",
    "Link to [GoogleCollab](https://colab.research.google.com/drive/1SU3j4VmXHYrYxOlrdK_NCBhajXb0iGes#scrollTo=zvDpOjPwgQoP)\n",
    "\n",
    "Description of webinar:\n",
    "`UniProt is a comprehensive, expert-led, publicly available database of protein sequence, function and variation information.\n",
    "\n",
    "This webinar will give an overview of programmatic access to the UniProt database using Python and cover key aspects of protein entry searches, data filtering, batch downloads and give examples of further processing of downloaded target data.\n",
    "\n",
    "Following a brief introduction to UniProt services, where to find relevant documentation and help features, the webinar will focus on worked examples. These will include how to programmatically search and retrieve protein entries and sequences, within the results. We will then show how to align orthologous sequences and filter for features of interest, such as disease variant information.\n",
    "\n",
    "The webinar will also cover programmatic examples of the UniProt Retrieve/ID mapping service, batch downloads, processing, and filtering data by annotation type.\n",
    "`"
   ]
  },
  {
   "cell_type": "markdown",
   "metadata": {},
   "source": [
    "## Ways to get UniProt data"
   ]
  },
  {
   "cell_type": "markdown",
   "metadata": {},
   "source": [
    "* FTP: Big one-off download, post-processing needed\n",
    "* API: Medium-size download, customisable. One-off, or workflow intefration, scripts, etc\n",
    "* Website download: small one-off download, customisable \n"
   ]
  },
  {
   "cell_type": "markdown",
   "metadata": {},
   "source": [
    "## UniProt API"
   ]
  },
  {
   "cell_type": "markdown",
   "metadata": {},
   "source": [
    "### Method 01: Simple"
   ]
  },
  {
   "cell_type": "code",
   "execution_count": 2,
   "metadata": {},
   "outputs": [],
   "source": [
    "import requests, sys, json\n",
    "\n",
    "web_api = \"https://rest.uniprot.org\"\n",
    "\n",
    "query = \"P33527\"\n",
    "\n",
    "# helper function to download data\n",
    "\n",
    "def get_url(url, **kwargs):\n",
    "    response = requests.get(url, **kwargs);\n",
    "    if not response.ok:\n",
    "        print(response.text)\n",
    "        response.raise_for_status()\n",
    "        sys.exit()\n",
    "    return response"
   ]
  },
  {
   "cell_type": "code",
   "execution_count": 3,
   "metadata": {},
   "outputs": [
    {
     "name": "stdout",
     "output_type": "stream",
     "text": [
      "Number of results: 1\n",
      "\n"
     ]
    }
   ],
   "source": [
    "r = get_url(f\"{web_api}/uniprotkb/search?query={query}\")\n",
    "\n",
    "data = r.json()\n",
    "\n",
    "n_results = len(data[\"results\"])\n",
    "print(f\"Number of results: {n_results}\\n\")"
   ]
  },
  {
   "cell_type": "code",
   "execution_count": 4,
   "metadata": {},
   "outputs": [
    {
     "name": "stdout",
     "output_type": "stream",
     "text": [
      "Server: nginx/1.17.7\n",
      "Vary: Accept-Encoding, Accept, Accept-Encoding, X-UniProt-Release, X-API-Deployment-Date, User-Agent\n",
      "Cache-Control: public, max-age=86400\n",
      "x-cache: miss cached\n",
      "Content-Type: application/json\n",
      "Access-Control-Allow-Credentials: true\n",
      "Content-Encoding: gzip\n",
      "Access-Control-Expose-Headers: Link, X-Total-Results, X-UniProt-Release, X-UniProt-Release-Date, X-API-Deployment-Date\n",
      "X-API-Deployment-Date: 01-September-2022\n",
      "Strict-Transport-Security: max-age=31536000; includeSubDomains\n",
      "Date: Mon, 12 Sep 2022 09:41:35 GMT\n",
      "X-UniProt-Release: 2022_03\n",
      "X-Total-Results: 1\n",
      "Transfer-Encoding: chunked\n",
      "Access-Control-Allow-Origin: *\n",
      "Connection: keep-alive\n",
      "Access-Control-Allow-Methods: GET, PUT, POST, DELETE, PATCH, OPTIONS\n",
      "Access-Control-Allow-Headers: DNT,X-CustomHeader,Keep-Alive,User-Agent,X-Requested-With,If-Modified-Since,Cache-Control,Content-Type,Authorization\n",
      "X-UniProt-Release-Date: 03-August-2022\n"
     ]
    }
   ],
   "source": [
    "for (key, value) in r.headers.items():\n",
    "    print(f\"{key}: {value}\")"
   ]
  },
  {
   "cell_type": "markdown",
   "metadata": {},
   "source": [
    "### Method 02: Complex with pages"
   ]
  },
  {
   "cell_type": "code",
   "execution_count": 5,
   "metadata": {},
   "outputs": [],
   "source": [
    "import requests, sys, json\n",
    "\n",
    "WEBSITE_API = \"https://rest.uniprot.org\"\n",
    "\n",
    "query=\"parkin AND (taxonomy_id:9606)\"\n",
    "\n",
    "# Helper function to download data\n",
    "def get_url(url, **kwargs):\n",
    "  response = requests.get(url, **kwargs);\n",
    "\n",
    "  if not response.ok:\n",
    "    print(response.text)\n",
    "    response.raise_for_status()\n",
    "    sys.exit()\n",
    "\n",
    "  return response"
   ]
  },
  {
   "cell_type": "code",
   "execution_count": 6,
   "metadata": {},
   "outputs": [
    {
     "name": "stdout",
     "output_type": "stream",
     "text": [
      "total: None; page total: 25\n",
      "total: None; page total: 25\n",
      "total: None; page total: 25\n",
      "total: None; page total: 25\n",
      "total: None; page total: 25\n",
      "total: None; page total: 11\n"
     ]
    }
   ],
   "source": [
    "r = get_url(f\"{web_api}/uniprotkb/search?query={query}\")\n",
    "#print(f\"{web_api}/uniprotkb/search?query={query}\")\n",
    "#WEBSITE_API = \"https://rest.uniprot.org\"\n",
    "#r = get_url(f\"{web_api}/uniprotkb/search?query=parkin AND (taxonomy_id:9606)\")\n",
    "data = r.json()\n",
    "\n",
    "total = r.headers.get(\"x-total-records\")\n",
    "page_total = len(data[\"results\"])\n",
    "print(f\"total: {total}; page total: {page_total}\")\n",
    "\n",
    "# print(r.headers[\"Link\"])\n",
    "\n",
    "# print(r.links[\"next\"][\"url\"])\n",
    "\n",
    "while r.links.get(\"next\", {}).get(\"url\"):\n",
    "  r = get_url(r.links[\"next\"][\"url\"])\n",
    "\n",
    "  data = r.json()\n",
    "\n",
    "  total = r.headers.get(\"x-total-records\")\n",
    "  page_total = len(data[\"results\"])\n",
    "  print(f\"total: {total}; page total: {page_total}\")"
   ]
  },
  {
   "cell_type": "markdown",
   "metadata": {},
   "source": [
    "### Method 03: Complex with stream"
   ]
  },
  {
   "cell_type": "code",
   "execution_count": 7,
   "metadata": {},
   "outputs": [],
   "source": [
    "import requests, sys, json\n",
    "\n",
    "web_api = \"https://rest.uniprot.org\"\n",
    "\n",
    "q_name=\"parkin AND (taxonomy_id:9606)\"\n",
    "\n",
    "# Helper function to download data\n",
    "def get_url(url, **kwargs):\n",
    "  response = requests.get(url, **kwargs);\n",
    "\n",
    "  if not response.ok:\n",
    "    print(response.text)\n",
    "    response.raise_for_status()\n",
    "    sys.exit()\n",
    "\n",
    "  return response"
   ]
  },
  {
   "cell_type": "code",
   "execution_count": 8,
   "metadata": {},
   "outputs": [],
   "source": [
    "# stream good for simplicity (no pagination), but...\n",
    "#  - harder to follow progress\n",
    "#  - harder to resume on failure\n",
    "#  - not sorted by score\n",
    "r = get_url(f\"{web_api}/uniprotkb/stream?query={q_name}\")\n",
    "\n",
    "data = r.json()\n",
    "\n",
    "total = len(data[\"results\"])\n",
    "print(f\"total: {total}\")"
   ]
  },
  {
   "cell_type": "markdown",
   "metadata": {},
   "source": [
    "### Method 04: Complex with other formats"
   ]
  },
  {
   "cell_type": "code",
   "execution_count": null,
   "metadata": {},
   "outputs": [],
   "source": [
    "import requests, sys, json\n",
    "\n",
    "web_api = \"https://rest.uniprot.org\"\n",
    "\n",
    "q_name  = \"parkin AND (taxonomy_id:9606)\"\n",
    "\n",
    "\n",
    "# Helper function to download data\n",
    "def get_url(url, **kwargs):\n",
    "  response = requests.get(url, **kwargs);\n",
    "\n",
    "  if not response.ok:\n",
    "    print(response.text)\n",
    "    response.raise_for_status()\n",
    "    sys.exit()\n",
    "\n",
    "  return response"
   ]
  },
  {
   "cell_type": "code",
   "execution_count": null,
   "metadata": {},
   "outputs": [
    {
     "name": "stdout",
     "output_type": "stream",
     "text": [
      "Entry\tEntry Name\tReviewed\tProtein names\tGene Names\tOrganism\tLength\n",
      "O60260\tPRKN_HUMAN\treviewed\tE3 ubiquitin-protein ligase parkin (Parkin) (EC 2.3.2.31) (Parkin RBR E3 ubiquitin-protein ligase) (Parkinson juvenile disease protein 2) (Parkinson disease protein 2)\tPRKN PARK2\tHomo sapiens (Human)\t465\n",
      "Q6NUN9\tZN746_HUMAN\treviewed\tZinc finger protein 746 (Parkin-interacting substrate) (PARIS)\tZNF746 PARIS\tHomo sapiens (Human)\t644\n",
      "Q96M98\tPACRG_HUMAN\treviewed\tParkin coregulated gene protein (Molecular chaperone/chaperonin-binding protein) (PARK2 coregulated gene protein)\tPACRG GLUP\tHomo sapiens (Human)\t296\n",
      "Q8IWT3\tCUL9_HUMAN\treviewed\tCullin-9 (CUL-9) (UbcH7-associated protein 1) (p53-associated parkin-like cytoplasmic protein)\tCUL9 H7AP1 KIAA0708 PARC\tHomo sapiens (Human)\t2517\n",
      "O15354\tGPR37_HUMAN\treviewed\tProsaposin receptor GPR37 (Endothelin B receptor-like protein 1) (ETBR-LP-1) (G-protein coupled receptor 37) (Parkin-associated endothelin receptor-like receptor) (PAELR)\tGPR37\tHomo sapiens (Human)\t613\n",
      "X5DR79\tX5DR79_HUMAN\tunreviewed\tE3 ubiquitin-protein ligase parkin (EC 2.3.2.31)\tPARK2\tHomo sapiens (Human)\t465\n",
      "Q70CQ3\tUBP30_HUMAN\treviewed\tUbiquitin carboxyl-terminal hydrolase 30 (EC 3.4.19.12) (Deubiquitinating enzyme 30) (Ubiquitin thioesterase 30) (Ubiquitin-specific-processing protease 30) (Ub-specific protease 30)\tUSP30\tHomo sapiens (Human)\t517\n",
      "Q9BXM7\tPINK1_HUMAN\treviewed\tSerine/threonine-protein kinase PINK1, mitochondrial (EC 2.7.11.1) (BRPK) (PTEN-induced putative kinase protein 1)\tPINK1\tHomo sapiens (Human)\t581\n",
      "Q969V5\tMUL1_HUMAN\treviewed\tMitochondrial ubiquitin ligase activator of NFKB 1 (EC 2.3.2.27) (E3 SUMO-protein ligase MUL1) (E3 ubiquitin-protein ligase MUL1) (Growth inhibition and death E3 ligase) (Mitochondrial-anchored protein ligase) (Protein Hades) (Putative NF-kappa-B-activating protein 266) (RING finger protein 218) (RING-type E3 ubiquitin transferase NFKB 1)\tMUL1 C1orf166 GIDE MAPL MULAN RNF218\tHomo sapiens (Human)\t352\n",
      "Q9Y4E8\tUBP15_HUMAN\treviewed\tUbiquitin carboxyl-terminal hydrolase 15 (EC 3.4.19.12) (Deubiquitinating enzyme 15) (Ubiquitin thioesterase 15) (Ubiquitin-specific-processing protease 15) (Unph-2) (Unph4)\tUSP15 KIAA0529\tHomo sapiens (Human)\t981\n",
      "Q8N7B6\tPACRL_HUMAN\treviewed\tPACRG-like protein\tPACRGL C4orf28\tHomo sapiens (Human)\t248\n",
      "P0CG47\tUBB_HUMAN\treviewed\tPolyubiquitin-B [Cleaved into: Ubiquitin]\tUBB\tHomo sapiens (Human)\t229\n",
      "Q9H4P4\tRNF41_HUMAN\treviewed\tE3 ubiquitin-protein ligase NRDP1 (EC 2.3.2.27) (RING finger protein 41) (RING-type E3 ubiquitin transferase NRDP1)\tRNF41 FLRF NRDP1 SBBI03\tHomo sapiens (Human)\t317\n",
      "P62979\tRS27A_HUMAN\treviewed\tUbiquitin-40S ribosomal protein S27a (Ubiquitin carboxyl extension protein 80) [Cleaved into: Ubiquitin; 40S ribosomal protein S27a (Small ribosomal subunit protein eS31)]\tRPS27A UBA80 UBCEP1\tHomo sapiens (Human)\t156\n",
      "P62987\tRL40_HUMAN\treviewed\tUbiquitin-60S ribosomal protein L40 (CEP52) (Ubiquitin A-52 residue ribosomal protein fusion product 1) [Cleaved into: Ubiquitin; 60S ribosomal protein L40 (Large ribosomal subunit protein eL40)]\tUBA52 UBCEP2\tHomo sapiens (Human)\t128\n",
      "Q99623\tPHB2_HUMAN\treviewed\tProhibitin-2 (B-cell receptor-associated protein BAP37) (D-prohibitin) (Repressor of estrogen receptor activity)\tPHB2 BAP REA\tHomo sapiens (Human)\t299\n",
      "Q9Y4X5\tARI1_HUMAN\treviewed\tE3 ubiquitin-protein ligase ARIH1 (EC 2.3.2.31) (H7-AP2) (HHARI) (Monocyte protein 6) (MOP-6) (Protein ariadne-1 homolog) (ARI-1) (UbcH7-binding protein) (UbcM4-interacting protein) (Ubiquitin-conjugating enzyme E2-binding protein 1)\tARIH1 ARI MOP6 UBCH7BP HUSSY-27\tHomo sapiens (Human)\t557\n",
      "Q9H300\tPARL_HUMAN\treviewed\tPresenilins-associated rhomboid-like protein, mitochondrial (EC 3.4.21.105) (Mitochondrial intramembrane cleaving protease PARL) [Cleaved into: P-beta (Pbeta)]\tPARL PSARL PRO2207\tHomo sapiens (Human)\t379\n",
      "Q16342\tPDCD2_HUMAN\treviewed\tProgrammed cell death protein 2 (Zinc finger MYND domain-containing protein 7) (Zinc finger protein Rp-8)\tPDCD2 RP8 ZMYND7\tHomo sapiens (Human)\t344\n",
      "Q9UL15\tBAG5_HUMAN\treviewed\tBAG family molecular chaperone regulator 5 (BAG-5) (Bcl-2-associated athanogene 5)\tBAG5 KIAA0873\tHomo sapiens (Human)\t447\n",
      "Q9Y2W6\tTDRKH_HUMAN\treviewed\tTudor and KH domain-containing protein (Tudor domain-containing protein 2)\tTDRKH TDRD2\tHomo sapiens (Human)\t561\n",
      "O75439\tMPPB_HUMAN\treviewed\tMitochondrial-processing peptidase subunit beta (EC 3.4.24.64) (Beta-MPP) (P-52)\tPMPCB MPPB\tHomo sapiens (Human)\t489\n",
      "Q709C8\tVP13C_HUMAN\treviewed\tIntermembrane lipid transfer protein VPS13C (Vacuolar protein sorting-associated protein 13C)\tVPS13C KIAA1421\tHomo sapiens (Human)\t3753\n",
      "Q9BT88\tSYT11_HUMAN\treviewed\tSynaptotagmin-11 (Synaptotagmin XI) (SytXI)\tSYT11 KIAA0080\tHomo sapiens (Human)\t431\n",
      "O95429\tBAG4_HUMAN\treviewed\tBAG family molecular chaperone regulator 4 (BAG-4) (Bcl-2-associated athanogene 4) (Silencer of death domains)\tBAG4 SODD\tHomo sapiens (Human)\t457\n",
      "\n"
     ]
    }
   ],
   "source": [
    "# r = get_url(f\"{web_api}/uniprotkb/search?query={q_name}&size=1\")\n",
    "# r = get_url(f\"{web_api}/uniprotkb/search?query={q_name}&size=1&format=xml\")\n",
    "# r = get_url(f\"{web_api}/uniprotkb/search?query={q_name}&size=1\", headers={\"Accept\": \"application/xml\"})\n",
    "# r = get_url(f\"{web_api}/uniprotkb/search?query={q_name}\", headers={\"Accept\": \"text/plain; format=list\"})\n",
    "# r = get_url(f\"{web_api}/uniprotkb/search?query={q_name}\", headers={\"Accept\": \"text/plain; format=fasta\"})\n",
    "r = get_url(f\"{web_api}/uniprotkb/search?query={q_name}\", headers={\"Accept\": \"text/plain; format=tsv\"})\n",
    "print(r.text)"
   ]
  },
  {
   "cell_type": "markdown",
   "metadata": {},
   "source": [
    "### Method 05: Complex with custom columns"
   ]
  },
  {
   "cell_type": "code",
   "execution_count": null,
   "metadata": {},
   "outputs": [],
   "source": [
    "import requests, sys, json\n",
    "\n",
    "web_api = \"https://rest.uniprot.org\"\n",
    "\n",
    "q_name  = \"parkin AND (taxonomy_id:9606)\"\n",
    "q_field = \"&fields=id,accession,length,ft_site\"\n",
    "\n",
    "# Helper function to download data\n",
    "def get_url(url, **kwargs):\n",
    "  response = requests.get(url, **kwargs);\n",
    "\n",
    "  if not response.ok:\n",
    "    print(response.text)\n",
    "    response.raise_for_status()\n",
    "    sys.exit()\n",
    "\n",
    "  return response"
   ]
  },
  {
   "cell_type": "code",
   "execution_count": null,
   "metadata": {},
   "outputs": [
    {
     "name": "stdout",
     "output_type": "stream",
     "text": [
      "Entry Name\tEntry\tLength\tSite\n",
      "PRKN_HUMAN\tO60260\t465\t\n",
      "ZN746_HUMAN\tQ6NUN9\t644\t\n",
      "PACRG_HUMAN\tQ96M98\t296\t\n",
      "CUL9_HUMAN\tQ8IWT3\t2517\t\n",
      "GPR37_HUMAN\tO15354\t613\t\n",
      "X5DR79_HUMAN\tX5DR79\t465\t\n",
      "UBP30_HUMAN\tQ70CQ3\t517\t\n",
      "PINK1_HUMAN\tQ9BXM7\t581\t\n",
      "MUL1_HUMAN\tQ969V5\t352\t\n",
      "UBP15_HUMAN\tQ9Y4E8\t981\t\n",
      "PACRL_HUMAN\tQ8N7B6\t248\t\n",
      "UBB_HUMAN\tP0CG47\t229\tSITE 54; /note=\"Interacts with activating enzyme\"; SITE 68; /note=\"Essential for function\"; SITE 72; /note=\"Interacts with activating enzyme\"\n",
      "RNF41_HUMAN\tQ9H4P4\t317\t\n",
      "RS27A_HUMAN\tP62979\t156\tSITE 54; /note=\"Interacts with activating enzyme\"; SITE 68; /note=\"Essential for function\"; SITE 72; /note=\"Interacts with activating enzyme\"\n",
      "RL40_HUMAN\tP62987\t128\tSITE 54; /note=\"Interacts with activating enzyme\"; SITE 68; /note=\"Essential for function\"; SITE 72; /note=\"Interacts with activating enzyme\"\n",
      "PHB2_HUMAN\tQ99623\t299\t\n",
      "ARI1_HUMAN\tQ9Y4X5\t557\t\n",
      "PARL_HUMAN\tQ9H300\t379\t\n",
      "PDCD2_HUMAN\tQ16342\t344\t\n",
      "BAG5_HUMAN\tQ9UL15\t447\t\n",
      "TDRKH_HUMAN\tQ9Y2W6\t561\t\n",
      "MPPB_HUMAN\tO75439\t489\tSITE 191; /note=\"Required for the specific determination of the substrate cleavage site\"; /evidence=\"ECO:0000250|UniProtKB:Q03346\"; SITE 195; /note=\"Required for the specific determination of the substrate cleavage site\"; /evidence=\"ECO:0000250|UniProtKB:Q03346\"\n",
      "VP13C_HUMAN\tQ709C8\t3753\t\n",
      "SYT11_HUMAN\tQ9BT88\t431\t\n",
      "BAG4_HUMAN\tO95429\t457\t\n",
      "\n"
     ]
    }
   ],
   "source": [
    "# Customise column choice\n",
    "r = get_url(f\"{web_api}/uniprotkb/search?query={q_name}\", headers={\"Accept\": \"text/plain; format=tsv\"})\n",
    "print(r.text)"
   ]
  },
  {
   "cell_type": "markdown",
   "metadata": {},
   "source": [
    "### Method 06: Search for Single Entry"
   ]
  },
  {
   "cell_type": "code",
   "execution_count": null,
   "metadata": {},
   "outputs": [],
   "source": [
    "import requests, sys, json\n",
    "\n",
    "web_api = \"https://rest.uniprot.org\"\n",
    "\n",
    "q_name=\"O60260?fields=cc_function\"\n",
    "\n",
    "# Helper function to download data\n",
    "def get_url(url, **kwargs):\n",
    "  response = requests.get(url, **kwargs);\n",
    "\n",
    "  if not response.ok:\n",
    "    print(response.text)\n",
    "    response.raise_for_status()\n",
    "    sys.exit()\n",
    "\n",
    "  return response"
   ]
  },
  {
   "cell_type": "code",
   "execution_count": null,
   "metadata": {},
   "outputs": [
    {
     "name": "stdout",
     "output_type": "stream",
     "text": [
      "{\n",
      "  \"primaryAccession\": \"O60260\",\n",
      "  \"comments\": [\n",
      "    {\n",
      "      \"texts\": [\n",
      "        {\n",
      "          \"evidences\": [\n",
      "            {\n",
      "              \"evidenceCode\": \"ECO:0000269\",\n",
      "              \"source\": \"PubMed\",\n",
      "              \"id\": \"10888878\"\n",
      "            },\n",
      "            {\n",
      "              \"evidenceCode\": \"ECO:0000269\",\n",
      "              \"source\": \"PubMed\",\n",
      "              \"id\": \"10973942\"\n",
      "            },\n",
      "            {\n",
      "              \"evidenceCode\": \"ECO:0000269\",\n",
      "              \"source\": \"PubMed\",\n",
      "              \"id\": \"11431533\"\n",
      "            },\n",
      "            {\n",
      "              \"evidenceCode\": \"ECO:0000269\",\n",
      "              \"source\": \"PubMed\",\n",
      "              \"id\": \"11439185\"\n",
      "            },\n",
      "            {\n",
      "              \"evidenceCode\": \"ECO:0000269\",\n",
      "              \"source\": \"PubMed\",\n",
      "              \"id\": \"11590439\"\n",
      "            },\n",
      "            {\n",
      "              \"evidenceCode\": \"ECO:0000269\",\n",
      "              \"source\": \"PubMed\",\n",
      "              \"id\": \"12150907\"\n",
      "            },\n",
      "            {\n",
      "              \"evidenceCode\": \"ECO:0000269\",\n",
      "              \"source\": \"PubMed\",\n",
      "              \"id\": \"12628165\"\n",
      "            },\n",
      "            {\n",
      "              \"evidenceCode\": \"ECO:0000269\",\n",
      "              \"source\": \"PubMed\",\n",
      "              \"id\": \"12719539\"\n",
      "            },\n",
      "            {\n",
      "              \"evidenceCode\": \"ECO:0000269\",\n",
      "              \"source\": \"PubMed\",\n",
      "              \"id\": \"15105460\"\n",
      "            },\n",
      "            {\n",
      "              \"evidenceCode\": \"ECO:0000269\",\n",
      "              \"source\": \"PubMed\",\n",
      "              \"id\": \"15728840\"\n",
      "            },\n",
      "            {\n",
      "              \"evidenceCode\": \"ECO:0000269\",\n",
      "              \"source\": \"PubMed\",\n",
      "              \"id\": \"16135753\"\n",
      "            },\n",
      "            {\n",
      "              \"evidenceCode\": \"ECO:0000269\",\n",
      "              \"source\": \"PubMed\",\n",
      "              \"id\": \"17846173\"\n",
      "            },\n",
      "            {\n",
      "              \"evidenceCode\": \"ECO:0000269\",\n",
      "              \"source\": \"PubMed\",\n",
      "              \"id\": \"18541373\"\n",
      "            },\n",
      "            {\n",
      "              \"evidenceCode\": \"ECO:0000269\",\n",
      "              \"source\": \"PubMed\",\n",
      "              \"id\": \"18957282\"\n",
      "            },\n",
      "            {\n",
      "              \"evidenceCode\": \"ECO:0000269\",\n",
      "              \"source\": \"PubMed\",\n",
      "              \"id\": \"19029340\"\n",
      "            },\n",
      "            {\n",
      "              \"evidenceCode\": \"ECO:0000269\",\n",
      "              \"source\": \"PubMed\",\n",
      "              \"id\": \"19229105\"\n",
      "            },\n",
      "            {\n",
      "              \"evidenceCode\": \"ECO:0000269\",\n",
      "              \"source\": \"PubMed\",\n",
      "              \"id\": \"19801972\"\n",
      "            },\n",
      "            {\n",
      "              \"evidenceCode\": \"ECO:0000269\",\n",
      "              \"source\": \"PubMed\",\n",
      "              \"id\": \"19966284\"\n",
      "            },\n",
      "            {\n",
      "              \"evidenceCode\": \"ECO:0000269\",\n",
      "              \"source\": \"PubMed\",\n",
      "              \"id\": \"20889974\"\n",
      "            },\n",
      "            {\n",
      "              \"evidenceCode\": \"ECO:0000269\",\n",
      "              \"source\": \"PubMed\",\n",
      "              \"id\": \"21376232\"\n",
      "            },\n",
      "            {\n",
      "              \"evidenceCode\": \"ECO:0000269\",\n",
      "              \"source\": \"PubMed\",\n",
      "              \"id\": \"21532592\"\n",
      "            },\n",
      "            {\n",
      "              \"evidenceCode\": \"ECO:0000269\",\n",
      "              \"source\": \"PubMed\",\n",
      "              \"id\": \"21753002\"\n",
      "            },\n",
      "            {\n",
      "              \"evidenceCode\": \"ECO:0000269\",\n",
      "              \"source\": \"PubMed\",\n",
      "              \"id\": \"22082830\"\n",
      "            },\n",
      "            {\n",
      "              \"evidenceCode\": \"ECO:0000269\",\n",
      "              \"source\": \"PubMed\",\n",
      "              \"id\": \"22396657\"\n",
      "            },\n",
      "            {\n",
      "              \"evidenceCode\": \"ECO:0000269\",\n",
      "              \"source\": \"PubMed\",\n",
      "              \"id\": \"23620051\"\n",
      "            },\n",
      "            {\n",
      "              \"evidenceCode\": \"ECO:0000269\",\n",
      "              \"source\": \"PubMed\",\n",
      "              \"id\": \"23754282\"\n",
      "            },\n",
      "            {\n",
      "              \"evidenceCode\": \"ECO:0000269\",\n",
      "              \"source\": \"PubMed\",\n",
      "              \"id\": \"23933751\"\n",
      "            },\n",
      "            {\n",
      "              \"evidenceCode\": \"ECO:0000269\",\n",
      "              \"source\": \"PubMed\",\n",
      "              \"id\": \"24660806\"\n",
      "            },\n",
      "            {\n",
      "              \"evidenceCode\": \"ECO:0000269\",\n",
      "              \"source\": \"PubMed\",\n",
      "              \"id\": \"24751536\"\n",
      "            },\n",
      "            {\n",
      "              \"evidenceCode\": \"ECO:0000269\",\n",
      "              \"source\": \"PubMed\",\n",
      "              \"id\": \"24784582\"\n",
      "            },\n",
      "            {\n",
      "              \"evidenceCode\": \"ECO:0000269\",\n",
      "              \"source\": \"PubMed\",\n",
      "              \"id\": \"24896179\"\n",
      "            },\n",
      "            {\n",
      "              \"evidenceCode\": \"ECO:0000269\",\n",
      "              \"source\": \"PubMed\",\n",
      "              \"id\": \"25474007\"\n",
      "            },\n",
      "            {\n",
      "              \"evidenceCode\": \"ECO:0000269\",\n",
      "              \"source\": \"PubMed\",\n",
      "              \"id\": \"25527291\"\n",
      "            },\n",
      "            {\n",
      "              \"evidenceCode\": \"ECO:0000269\",\n",
      "              \"source\": \"PubMed\",\n",
      "              \"id\": \"25621951\"\n",
      "            },\n",
      "            {\n",
      "              \"evidenceCode\": \"ECO:0000269\",\n",
      "              \"source\": \"PubMed\",\n",
      "              \"id\": \"29311685\"\n",
      "            },\n",
      "            {\n",
      "              \"evidenceCode\": \"ECO:0000269\",\n",
      "              \"source\": \"PubMed\",\n",
      "              \"id\": \"32047033\"\n",
      "            },\n",
      "            {\n",
      "              \"evidenceCode\": \"ECO:0000269\",\n",
      "              \"source\": \"PubMed\",\n",
      "              \"id\": \"33499712\"\n",
      "            }\n",
      "          ],\n",
      "          \"value\": \"Functions within a multiprotein E3 ubiquitin ligase complex, catalyzing the covalent attachment of ubiquitin moieties onto substrate proteins (PubMed:10888878, PubMed:10973942, PubMed:11431533, PubMed:12150907, PubMed:12628165, PubMed:15105460, PubMed:16135753, PubMed:21376232, PubMed:21532592, PubMed:23754282, PubMed:23620051, PubMed:24660806, PubMed:24751536, PubMed:32047033, PubMed:29311685, PubMed:22396657). Substrates include SYT11 and VDAC1 (PubMed:32047033, PubMed:29311685). Other substrates are BCL2, CCNE1, GPR37, RHOT1/MIRO1, MFN1, MFN2, STUB1, SNCAIP, SEPTIN5, TOMM20, USP30, ZNF746, MIRO1 and AIMP2 (PubMed:10888878, PubMed:10973942, PubMed:11431533, PubMed:12150907, PubMed:12628165, PubMed:15105460, PubMed:16135753, PubMed:21376232, PubMed:21532592, PubMed:23754282, PubMed:23620051, PubMed:24660806, PubMed:24751536, PubMed:22396657). Mediates monoubiquitination as well as 'Lys-6', 'Lys-11', 'Lys-48'-linked and 'Lys-63'-linked polyubiquitination of substrates depending on the context (PubMed:19229105, PubMed:20889974, PubMed:25621951, PubMed:32047033, PubMed:25474007). Participates in the removal and/or detoxification of abnormally folded or damaged protein by mediating 'Lys-63'-linked polyubiquitination of misfolded proteins such as PARK7: 'Lys-63'-linked polyubiquitinated misfolded proteins are then recognized by HDAC6, leading to their recruitment to aggresomes, followed by degradation (PubMed:17846173, PubMed:19229105). Mediates 'Lys-63'-linked polyubiquitination of a 22 kDa O-linked glycosylated isoform of SNCAIP, possibly playing a role in Lewy-body formation (PubMed:11431533, PubMed:11590439, PubMed:15105460, PubMed:19229105, PubMed:15728840). Mediates monoubiquitination of BCL2, thereby acting as a positive regulator of autophagy (PubMed:20889974). Protects against mitochondrial dysfunction during cellular stress, by acting downstream of PINK1 to coordinate mitochondrial quality control mechanisms that remove and replace dysfunctional mitochondrial components (PubMed:32047033, PubMed:19029340, PubMed:19966284, PubMed:23620051, PubMed:24896179, PubMed:25527291, PubMed:18957282, PubMed:21376232, PubMed:22396657, PubMed:24660806, PubMed:25474007, PubMed:24784582, PubMed:11439185, PubMed:22082830, PubMed:23933751). Depending on the severity of mitochondrial damage and/or dysfunction, activity ranges from preventing apoptosis and stimulating mitochondrial biogenesis to regulating mitochondrial dynamics and eliminating severely damaged mitochondria via mitophagy (PubMed:32047033, PubMed:19029340, PubMed:19801972, PubMed:19966284, PubMed:23620051, PubMed:24896179, PubMed:25527291, PubMed:21376232, PubMed:22396657, PubMed:11439185, PubMed:22082830, PubMed:23933751, PubMed:33499712). Activation and recruitment onto the outer membrane of damaged/dysfunctional mitochondria (OMM) requires PINK1-mediated phosphorylation of both PRKN and ubiquitin (PubMed:24660806, PubMed:25474007, PubMed:24784582, PubMed:25527291). After mitochondrial damage, functions with PINK1 to mediate the decision between mitophagy or preventing apoptosis by inducing either the poly- or monoubiquitination of VDAC1, respectively; polyubiquitination of VDAC1 promotes mitophagy, while monoubiquitination of VDAC1 decreases mitochondrial calcium influx which ultimately inhibits apoptosis (PubMed:32047033). When cellular stress results in irreversible mitochondrial damage, promotes the autophagic degradation of dysfunctional depolarized mitochondria (mitophagy) by promoting the ubiquitination of mitochondrial proteins such as TOMM20, RHOT1/MIRO1, MFN1 and USP30 (PubMed:19029340, PubMed:19966284, PubMed:21753002, PubMed:23620051, PubMed:24896179, PubMed:25527291, PubMed:22396657, PubMed:23933751). Preferentially assembles 'Lys-6'-, 'Lys-11'- and 'Lys-63'-linked polyubiquitin chains, leading to mitophagy (PubMed:25621951, PubMed:32047033). The PINK1-PRKN pathway also promotes fission of damaged mitochondria by PINK1-mediated phosphorylation which promotes the PRKN-dependent degradation of mitochondrial proteins involved in fission such as MFN2 (PubMed:23620051). This prevents the refusion of unhealthy mitochondria with the mitochondrial network or initiates mitochondrial fragmentation facilitating their later engulfment by autophagosomes (PubMed:23620051). Regulates motility of damaged mitochondria via the ubiquitination and subsequent degradation of MIRO1 and MIRO2; in motor neurons, this likely inhibits mitochondrial intracellular anterograde transport along the axons which probably increases the chance of the mitochondria undergoing mitophagy in the soma (PubMed:22396657). Involved in mitochondrial biogenesis via the 'Lys-48'-linked polyubiquitination of transcriptional repressor ZNF746/PARIS which leads to its subsequent proteasomal degradation and allows activation of the transcription factor PPARGC1A (PubMed:21376232). Limits the production of reactive oxygen species (ROS) (PubMed:18541373). Regulates cyclin-E during neuronal apoptosis (PubMed:12628165). In collaboration with CHPF isoform 2, may enhance cell viability and protect cells from oxidative stress (PubMed:22082830). Independently of its ubiquitin ligase activity, protects from apoptosis by the transcriptional repression of p53/TP53 (PubMed:19801972). May protect neurons against alpha synuclein toxicity, proteasomal dysfunction, GPR37 accumulation, and kainate-induced excitotoxicity (PubMed:11439185). May play a role in controlling neurotransmitter trafficking at the presynaptic terminal and in calcium-dependent exocytosis. May represent a tumor suppressor gene (PubMed:12719539)\"\n",
      "        }\n",
      "      ],\n",
      "      \"commentType\": \"FUNCTION\"\n",
      "    }\n",
      "  ]\n",
      "}\n"
     ]
    }
   ],
   "source": [
    "# all of the entry\n",
    "# r = get_url(f\"{WEBSITE_API}/uniprotkb/O60260\")\n",
    "# only the function comments\n",
    "r = get_url(f\"{q_name}/uniprotkb/{query}\")\n",
    "print(json.dumps(r.json(), indent=2))"
   ]
  },
  {
   "cell_type": "markdown",
   "metadata": {},
   "source": [
    "### Method 07: Search for All Isoforms of an Entry"
   ]
  },
  {
   "cell_type": "code",
   "execution_count": null,
   "metadata": {},
   "outputs": [],
   "source": [
    "import requests, sys, json\n",
    "\n",
    "web_api = \"https://rest.uniprot.org\"\n",
    "\n",
    "q_name   = \"P17861&includeIsoform=true\"\n",
    "q_field  = \"&fields=accession,cc_function,cc_subcellular_location,cc_ptm,sequence\"\n",
    "q_format = \"&format=tsv\"\n",
    "\n",
    "# Helper function to download data\n",
    "def get_url(url, **kwargs):\n",
    "  response = requests.get(url, **kwargs);\n",
    "\n",
    "  if not response.ok:\n",
    "    print(response.text)\n",
    "    response.raise_for_status()\n",
    "    sys.exit()\n",
    "\n",
    "  return response"
   ]
  },
  {
   "cell_type": "code",
   "execution_count": null,
   "metadata": {},
   "outputs": [
    {
     "name": "stdout",
     "output_type": "stream",
     "text": [
      "Entry\tFunction [CC]\tSubcellular location [CC]\tPost-translational modification\tSequence\n",
      "P17861\tFUNCTION: Functions as a transcription factor during endoplasmic reticulum (ER) stress by regulating the unfolded protein response (UPR). Required for cardiac myogenesis and hepatogenesis during embryonic development, and the development of secretory tissues such as exocrine pancreas and salivary gland (By similarity). Involved in terminal differentiation of B lymphocytes to plasma cells and production of immunoglobulins (PubMed:11460154). Modulates the cellular response to ER stress in a PIK3R-dependent manner (PubMed:20348923). Binds to the cis-acting X box present in the promoter regions of major histocompatibility complex class II genes (PubMed:8349596). Involved in VEGF-induced endothelial cell (EC) proliferation and retinal blood vessel formation during embryonic development but also for angiogenesis in adult tissues under ischemic conditions. Functions also as a major regulator of the UPR in obesity-induced insulin resistance and type 2 diabetes for the management of obesity and diabetes prevention (By similarity). {ECO:0000250|UniProtKB:O35426, ECO:0000269|PubMed:11460154, ECO:0000269|PubMed:20348923, ECO:0000269|PubMed:8349596}.; FUNCTION: [Isoform 1]: Plays a role in the unconventional cytoplasmic splicing processing of its own mRNA triggered by the endoplasmic reticulum (ER) transmembrane endoribonuclease ERN1: upon ER stress, the emerging XBP1 polypeptide chain, as part of a mRNA-ribosome-nascent chain (R-RNC) complex, cotranslationally recruits its own unprocessed mRNA through transient docking to the ER membrane and translational pausing, therefore facilitating efficient IRE1-mediated XBP1 mRNA isoform 2 production (PubMed:19394296, PubMed:21233347). In endothelial cells (EC), associated with KDR, promotes IRE1-mediated XBP1 mRNA isoform 2 productions in a vascular endothelial growth factor (VEGF)-dependent manner, leading to EC proliferation and angiogenesis (PubMed:23529610). Functions as a negative feed-back regulator of the potent transcription factor XBP1 isoform 2 protein levels through proteasome-mediated degradation, thus preventing the constitutive activation of the ER stress response signaling pathway (PubMed:16461360, PubMed:25239945). Inhibits the transactivation activity of XBP1 isoform 2 in myeloma cells (By similarity). Acts as a weak transcriptional factor (PubMed:8657566). Together with HDAC3, contributes to the activation of NFE2L2-mediated HMOX1 transcription factor gene expression in a PI(3)K/mTORC2/Akt-dependent signaling pathway leading to EC survival under disturbed flow/oxidative stress (PubMed:25190803). Binds to the ER stress response element (ERSE) upon ER stress (PubMed:11779464). Binds to the consensus 5'-GATGACGTG[TG]N(3)[AT]T-3' sequence related to cAMP responsive element (CRE)-like sequences (PubMed:8657566). Binds the Tax-responsive element (TRE) present in the long terminal repeat (LTR) of T-cell leukemia virus type 1 (HTLV-I) and to the TPA response elements (TRE) (PubMed:2321018, PubMed:2196176, PubMed:1903538, PubMed:8657566). Associates preferentially to the HDAC3 gene promoter region in a static flow-dependent manner (PubMed:25190803). Binds to the CDH5/VE-cadherin gene promoter region (PubMed:19416856). {ECO:0000250|UniProtKB:O35426, ECO:0000269|PubMed:11779464, ECO:0000269|PubMed:16461360, ECO:0000269|PubMed:1903538, ECO:0000269|PubMed:19394296, ECO:0000269|PubMed:19416856, ECO:0000269|PubMed:21233347, ECO:0000269|PubMed:2196176, ECO:0000269|PubMed:2321018, ECO:0000269|PubMed:23529610, ECO:0000269|PubMed:25190803, ECO:0000269|PubMed:25239945, ECO:0000269|PubMed:8657566}.; FUNCTION: [Isoform 2]: Functions as a stress-inducible potent transcriptional activator during endoplasmic reticulum (ER) stress by inducing unfolded protein response (UPR) target genes via binding to the UPR element (UPRE). Up-regulates target genes encoding ER chaperones and ER-associated degradation (ERAD) components to enhance the capacity of productive folding and degradation mechanism, respectively, in order to maintain the homeostasis of the ER under ER stress (PubMed:11779464, PubMed:25239945). Plays a role in the production of immunoglobulins and interleukin-6 in the presence of stimuli required for plasma cell differentiation (By similarity). Induces phospholipid biosynthesis and ER expansion (PubMed:15466483). Contributes to the VEGF-induced endothelial cell (EC) growth and proliferation in a Akt/GSK-dependent and/or -independent signaling pathway, respectively, leading to beta-catenin nuclear translocation and E2F2 gene expression (PubMed:23529610). Promotes umbilical vein EC apoptosis and atherosclerotisis development in a caspase-dependent signaling pathway, and contributes to VEGF-induced EC proliferation and angiogenesis in adult tissues under ischemic conditions (PubMed:19416856, PubMed:23529610). Involved in the regulation of endostatin-induced autophagy in EC through BECN1 transcriptional activation (PubMed:23184933). Plays a role as an oncogene by promoting tumor progression: stimulates zinc finger protein SNAI1 transcription to induce epithelial-to-mesenchymal (EMT) transition, cell migration and invasion of breast cancer cells (PubMed:25280941). Involved in adipocyte differentiation by regulating lipogenic gene expression during lactation. Plays a role in the survival of both dopaminergic neurons of the substantia nigra pars compacta (SNpc), by maintaining protein homeostasis and of myeloma cells. Increases insulin sensitivity in the liver as a response to a high carbohydrate diet, resulting in improved glucose tolerance. Improves also glucose homeostasis in an ER stress- and/or insulin-independent manner through both binding and proteasome-induced degradation of the transcription factor FOXO1, hence resulting in suppression of gluconeogenic genes expression and in a reduction of blood glucose levels. Controls the induction of de novo fatty acid synthesis in hepatocytes by regulating the expression of a subset of lipogenic genes in an ER stress- and UPR-independent manner (By similarity). Associates preferentially to the HDAC3 gene promoter region in a disturbed flow-dependent manner (PubMed:25190803). Binds to the BECN1 gene promoter region (PubMed:23184933). Binds to the CDH5/VE-cadherin gene promoter region (PubMed:19416856). Binds to the ER stress response element (ERSE) upon ER stress (PubMed:11779464). Binds to the 5'-CCACG-3' motif in the PPARG promoter (By similarity). {ECO:0000250|UniProtKB:O35426, ECO:0000269|PubMed:11779464, ECO:0000269|PubMed:15466483, ECO:0000269|PubMed:19416856, ECO:0000269|PubMed:23184933, ECO:0000269|PubMed:23529610, ECO:0000269|PubMed:25190803, ECO:0000269|PubMed:25239945, ECO:0000269|PubMed:25280941}.\tSUBCELLULAR LOCATION: Endoplasmic reticulum {ECO:0000269|PubMed:23529610}. Note=Colocalizes with ERN1 and KDR in the endoplasmic reticulum in endothelial cells in a vascular endothelial growth factor (VEGF)-dependent manner (PubMed:23529610). {ECO:0000269|PubMed:23529610}.; SUBCELLULAR LOCATION: [Isoform 1]: Nucleus {ECO:0000269|PubMed:16461360, ECO:0000269|PubMed:19394296}. Cytoplasm {ECO:0000269|PubMed:16461360, ECO:0000269|PubMed:19394296, ECO:0000269|PubMed:20348923, ECO:0000269|PubMed:25190803}. Endoplasmic reticulum membrane {ECO:0000269|PubMed:25239945}; Single-pass type II membrane protein {ECO:0000269|PubMed:25239945}. Endoplasmic reticulum membrane {ECO:0000303|PubMed:25239945}; Peripheral membrane protein {ECO:0000303|PubMed:25239945}. Membrane {ECO:0000269|PubMed:19394296}; Peripheral membrane protein {ECO:0000303|PubMed:19394296}. Note=Shows no preferential localization to either the nucleus or the cytoplasm (By similarity). Shuttles between the nucleus and the cytoplasm in a CRM1-dependent manner (PubMed:16461360). Localizes predominantly at the endoplasmic reticulum membrane as a membrane-spanning protein; whereas may be only marginally localized on the cytosolic side of the ER membrane as a peripheral membrane (PubMed:19394296, PubMed:25190803). {ECO:0000250|UniProtKB:O35426, ECO:0000269|PubMed:16461360, ECO:0000269|PubMed:19394296, ECO:0000269|PubMed:25190803}.; SUBCELLULAR LOCATION: [Isoform 2]: Nucleus {ECO:0000269|PubMed:16461360, ECO:0000269|PubMed:19394296, ECO:0000269|PubMed:20348923, ECO:0000269|PubMed:20955178}. Cytoplasm {ECO:0000250|UniProtKB:O35426}. Note=Localizes predominantly in the nucleus. Colocalizes in the nucleus with SIRT1. Translocates into the nucleus in a PIK3R-, ER stress-induced- and/or insulin-dependent manner (By similarity). {ECO:0000250|UniProtKB:O35426}.; SUBCELLULAR LOCATION: [X-box-binding protein 1, cytoplasmic form]: Cytoplasm {ECO:0000269|PubMed:25239945}. Nucleus {ECO:0000269|PubMed:25239945}. Note=Localizes in the cytoplasm and nucleus after HM13/SPP-mediated intramembranaire proteolytic cleavage of isoform 1 (PubMed:25239945). {ECO:0000269|PubMed:25239945}.\tPTM: [Isoform 2]: Acetylated by EP300; acetylation positively regulates the transcriptional activity of XBP1 isoform 2 (PubMed:20955178). Isoform 2 is deacetylated by SIRT1; deacetylation negatively regulates the transcriptional activity of XBP1 isoform 2 (PubMed:20955178). {ECO:0000269|PubMed:20955178, ECO:0000305|PubMed:20955178}.; PTM: [Isoform 1]: Ubiquitinated, leading to proteasome-mediated degradation in response to ER stress (PubMed:11779464, PubMed:16461360, PubMed:25239945). {ECO:0000250|UniProtKB:O35426, ECO:0000269|PubMed:11779464, ECO:0000269|PubMed:16461360, ECO:0000269|PubMed:25239945}.; PTM: X-box-binding protein 1, cytoplasmic form and luminal form are produced by intramembrane proteolytic cleavage of ER membrane-anchored isoform 1 triggered by HM13/SPP in a DERL1-RNF139-dependent and VCP/p97-independent manner. X-box-binding protein 1, luminal form is ubiquitinated leading to proteasomal degradation (PubMed:25239945). {ECO:0000269|PubMed:25239945}.\tMVVVAAAPNPADGTPKVLLLSGQPASAAGAPAGQALPLMVPAQRGASPEAASGGLPQARKRQRLTHLSPEEKALRRKLKNRVAAQTARDRKKARMSELEQQVVDLEEENQKLLLENQLLREKTHGLVVENQELRQRLGMDALVAEEEAEAKGNEVRPVAGSAESAALRLRAPLQQVQAQLSPLQNISPWILAVLTLQIQSLISCWAFWTTWTQSCSSNALPQSLPAWRSSQRSTQKDPVPYQPPFLCQWGRHQPSWKPLMN\n",
      "P17861-2\tFUNCTION: Functions as a stress-inducible potent transcriptional activator during endoplasmic reticulum (ER) stress by inducing unfolded protein response (UPR) target genes via binding to the UPR element (UPRE). Up-regulates target genes encoding ER chaperones and ER-associated degradation (ERAD) components to enhance the capacity of productive folding and degradation mechanism, respectively, in order to maintain the homeostasis of the ER under ER stress (PubMed:11779464, PubMed:25239945). Plays a role in the production of immunoglobulins and interleukin-6 in the presence of stimuli required for plasma cell differentiation (By similarity). Induces phospholipid biosynthesis and ER expansion (PubMed:15466483). Contributes to the VEGF-induced endothelial cell (EC) growth and proliferation in a Akt/GSK-dependent and/or -independent signaling pathway, respectively, leading to beta-catenin nuclear translocation and E2F2 gene expression (PubMed:23529610). Promotes umbilical vein EC apoptosis and atherosclerotisis development in a caspase-dependent signaling pathway, and contributes to VEGF-induced EC proliferation and angiogenesis in adult tissues under ischemic conditions (PubMed:19416856, PubMed:23529610). Involved in the regulation of endostatin-induced autophagy in EC through BECN1 transcriptional activation (PubMed:23184933). Plays a role as an oncogene by promoting tumor progression: stimulates zinc finger protein SNAI1 transcription to induce epithelial-to-mesenchymal (EMT) transition, cell migration and invasion of breast cancer cells (PubMed:25280941). Involved in adipocyte differentiation by regulating lipogenic gene expression during lactation. Plays a role in the survival of both dopaminergic neurons of the substantia nigra pars compacta (SNpc), by maintaining protein homeostasis and of myeloma cells. Increases insulin sensitivity in the liver as a response to a high carbohydrate diet, resulting in improved glucose tolerance. Improves also glucose homeostasis in an ER stress- and/or insulin-independent manner through both binding and proteasome-induced degradation of the transcription factor FOXO1, hence resulting in suppression of gluconeogenic genes expression and in a reduction of blood glucose levels. Controls the induction of de novo fatty acid synthesis in hepatocytes by regulating the expression of a subset of lipogenic genes in an ER stress- and UPR-independent manner (By similarity). Associates preferentially to the HDAC3 gene promoter region in a disturbed flow-dependent manner (PubMed:25190803). Binds to the BECN1 gene promoter region (PubMed:23184933). Binds to the CDH5/VE-cadherin gene promoter region (PubMed:19416856). Binds to the ER stress response element (ERSE) upon ER stress (PubMed:11779464). Binds to the 5'-CCACG-3' motif in the PPARG promoter (By similarity). {ECO:0000250|UniProtKB:O35426, ECO:0000269|PubMed:11779464, ECO:0000269|PubMed:15466483, ECO:0000269|PubMed:19416856, ECO:0000269|PubMed:23184933, ECO:0000269|PubMed:23529610, ECO:0000269|PubMed:25190803, ECO:0000269|PubMed:25239945, ECO:0000269|PubMed:25280941}.\tSUBCELLULAR LOCATION: Nucleus {ECO:0000269|PubMed:16461360, ECO:0000269|PubMed:19394296, ECO:0000269|PubMed:20348923, ECO:0000269|PubMed:20955178}. Cytoplasm {ECO:0000250|UniProtKB:O35426}. Note=Localizes predominantly in the nucleus. Colocalizes in the nucleus with SIRT1. Translocates into the nucleus in a PIK3R-, ER stress-induced- and/or insulin-dependent manner (By similarity). {ECO:0000250|UniProtKB:O35426}.\tPTM: Acetylated by EP300; acetylation positively regulates the transcriptional activity of XBP1 isoform 2 (PubMed:20955178). Isoform 2 is deacetylated by SIRT1; deacetylation negatively regulates the transcriptional activity of XBP1 isoform 2 (PubMed:20955178). {ECO:0000269|PubMed:20955178, ECO:0000305|PubMed:20955178}.\tMVVVAAAPNPADGTPKVLLLSGQPASAAGAPAGQALPLMVPAQRGASPEAASGGLPQARKRQRLTHLSPEEKALRRKLKNRVAAQTARDRKKARMSELEQQVVDLEEENQKLLLENQLLREKTHGLVVENQELRQRLGMDALVAEEEAEAKGNEVRPVAGSAESAAGAGPVVTPPEHLPMDSGGIDSSDSESDILLGILDNLDPVMFFKCPSPEPASLEELPEVYPEGPSSLPASLSLSVGTSSAKLEAINELIRFDHIYTKPLVLEIPSETESQANVVVKIEEAPLSPSENDHPEFIVSVKEEPVEDDLVPELGISNLLSSSHCPKPSSCLLDAYSDCGYGGSLSPFSDMSSLLGVNHSWEDTFANELFPQLISV\n",
      "\n"
     ]
    }
   ],
   "source": [
    "# isoform info for PRKN_HUMAN (but not interesting to see)\n",
    "# r = get_url(f\"{WEBSITE_API}/uniprotkb/search?query=O60260&fields=accession&includeIsoform=true&fields=cc_function,cc_subcellular_location,cc_ptm,sequence&format=tsv\")\n",
    "# isoform info for XBP1_HUMAN\n",
    "r = get_url(f\"{web_api}/uniprotkb/search?query={q_name}{q_field}{q_format}\")\n",
    "\n",
    "print(r.text)"
   ]
  },
  {
   "cell_type": "markdown",
   "metadata": {},
   "source": [
    "### Method 08: Multiple Entries Through Endpoint, Get Natural Variants & Compare Sequences"
   ]
  },
  {
   "cell_type": "code",
   "execution_count": null,
   "metadata": {},
   "outputs": [
    {
     "name": "stdout",
     "output_type": "stream",
     "text": [
      "O60260,Q7KTX7,Q9WVS6,Q9JK66\n"
     ]
    }
   ],
   "source": [
    "import requests, sys, json\n",
    "\n",
    "web_api = \"https://rest.uniprot.org\"\n",
    "\n",
    "# manually selected ones\n",
    "accessions = [\"O60260\", \"Q7KTX7\", \"Q9WVS6\", \"Q9JK66\"]\n",
    "q_name     = \",\".join(accessions)\n",
    "q_format   = \"&format=fasta\"\n",
    "\n",
    "# Helper function to download data\n",
    "def get_url(url, **kwargs):\n",
    "  response = requests.get(url, **kwargs);\n",
    "\n",
    "  if not response.ok:\n",
    "    print(response.text)\n",
    "    response.raise_for_status()\n",
    "    sys.exit()\n",
    "\n",
    "  return response"
   ]
  },
  {
   "cell_type": "code",
   "execution_count": null,
   "metadata": {},
   "outputs": [
    {
     "name": "stdout",
     "output_type": "stream",
     "text": [
      ">sp|O60260|PRKN_HUMAN E3 ubiquitin-protein ligase parkin OS=Homo sapiens OX=9606 GN=PRKN PE=1 SV=2\n",
      "MIVFVRFNSSHGFPVEVDSDTSIFQLKEVVAKRQGVPADQLRVIFAGKELRNDWTVQNCD\n",
      "LDQQSIVHIVQRPWRKGQEMNATGGDDPRNAAGGCEREPQSLTRVDLSSSVLPGDSVGLA\n",
      "VILHTDSRKDSPPAGSPAGRSIYNSFYVYCKGPCQRVQPGKLRVQCSTCRQATLTLTQGP\n",
      "SCWDDVLIPNRMSGECQSPHCPGTSAEFFFKCGAHPTSDKETSVALHLIATNSRNITCIT\n",
      "CTDVRSPVLVFQCNSRHVICLDCFHLYCVTRLNDRQFVHDPQLGYSLPCVAGCPNSLIKE\n",
      "LHHFRILGEEQYNRYQQYGAEECVLQMGGVLCPRPGCGAGLLPEPDQRKVTCEGGNGLGC\n",
      "GFAFCRECKEAYHEGECSAVFEASGTTTQAYRVDERAAEQARWEAASKETIKKTTKPCPR\n",
      "CHVPVEKNGGCMHMKCPQPQCRLEWCWNCGCEWNRVCMGDHWFDV\n",
      ">sp|Q7KTX7|PRKN_DROME E3 ubiquitin-protein ligase parkin OS=Drosophila melanogaster OX=7227 GN=park PE=1 SV=1\n",
      "MSFIFKFIATFVRKMLELLQFGGKTLTHTLSIYVKTNTGKTLTVNLEPQWDIKNVKELVA\n",
      "PQLGLQPDDLKIIFAGKELSDATTIEQCDLGQQSVLHAIRLRPPVQRQKIQSATLEEEEP\n",
      "SLSDEASKPLNETLLDLQLESEERLNITDEERVRAKAHFFVHCSQCDKLCNGKLRVRCAL\n",
      "CKGGAFTVHRDPECWDDVLKSRRIPGHCESLEVACVDNAAGDPPFAEFFFKCAEHVSGGE\n",
      "KDFAAPLNLIKNNIKNVPCLACTDVSDTVLVFPCASQHVTCIDCFRHYCRSRLGERQFMP\n",
      "HPDFGYTLPCPAGCEHSFIEEIHHFKLLTREEYDRYQRFATEEYVLQAGGVLCPQPGCGM\n",
      "GLLVEPDCRKVTCQNGCGYVFCRNCLQGYHIGECLPEGTGASATNSCEYTVDPNRAAEAR\n",
      "WDEASNVTIKVSTKPCPKCRTPTERDGGCMHMVCTRAGCGFEWCWVCQTEWTRDCMGAHW\n",
      "FG\n",
      ">sp|Q9WVS6|PRKN_MOUSE E3 ubiquitin-protein ligase parkin OS=Mus musculus OX=10090 GN=Prkn PE=1 SV=1\n",
      "MIVFVRFNSSYGFPVEVDSDTSILQLKEVVAKRQGVPADQLRVIFAGKELPNHLTVQNCD\n",
      "LEQQSIVHIVQRPRRRSHETNASGGDEPQSTSEGSIWESRSLTRVDLSSHTLPVDSVGLA\n",
      "VILDTDSKRDSEAARGPVKPTYNSFFIYCKGPCHKVQPGKLRVQCGTCKQATLTLAQGPS\n",
      "CWDDVLIPNRMSGECQSPDCPGTRAEFFFKCGAHPTSDKDTSVALNLITSNRRSIPCIAC\n",
      "TDVRSPVLVFQCNHRHVICLDCFHLYCVTRLNDRQFVHDAQLGYSLPCVAGCPNSLIKEL\n",
      "HHFRILGEEQYTRYQQYGAEECVLQMGGVLCPRPGCGAGLLPEQGQRKVTCEGGNGLGCG\n",
      "FVFCRDCKEAYHEGDCDSLLEPSGATSQAYRVDKRAAEQARWEEASKETIKKTTKPCPRC\n",
      "NVPIEKNGGCMHMKCPQPQCKLEWCWNCGCEWNRACMGDHWFDV\n",
      ">sp|Q9JK66|PRKN_RAT E3 ubiquitin-protein ligase parkin OS=Rattus norvegicus OX=10116 GN=Prkn PE=1 SV=1\n",
      "MIVFVRFNSSYGFPVEVDSDTSIFQLKEVVAKRQGVPADQLRVIFAGKELQNHLTVQNCD\n",
      "LEQQSIVHIVQRPQRKSHETNASGGDKPQSTPEGSIWEPRSLTRVDLSSHILPADSVGLA\n",
      "VILDTDSKSDSEAARGPEAKPTYHSFFVYCKGPCHKVQPGKLRVQCGTCRQATLTLAQGP\n",
      "SCWDDVLIPNRMSGECQSPDCPGTRAEFFFKCGAHPTSDKDTSVALNLITNNSRSIPCIA\n",
      "CTDVRNPVLVFQCNHRHVICLDCFHLYCVTRLNDRQFVHDAQLGYSLPCVAGCPNSLIKE\n",
      "LHHFRILGEEQYNRYQQYGAEECVLQMGGVLCPRPGCGAGLLPEQGQKKVTCEGGNGLGC\n",
      "GFVFCRDCKEAYHEGECDSMFEASGATSQAYRVDQRAAEQARWEEASKETIKKTTKPCPR\n",
      "CNVPIEKNGGCMHMKCPQPQCKLEWCWNCGCEWNRACMGDHWFDV\n",
      "\n"
     ]
    }
   ],
   "source": [
    "# get the natural variants information\n",
    "# r = get_url(f\"{WEBSITE_API}/uniprotkb/accessions?accessions={joined}&fields=ft_variant,organism_name\")\n",
    "# print(json.dumps(r.json(), indent=2))\n",
    "\n",
    "# get FASTA of these entries\n",
    "r = get_url(f\"{web_api}/uniprotkb/accessions?accessions={q_name}{q_format}\")\n",
    "fasta = r.text\n",
    "print(fasta)"
   ]
  },
  {
   "cell_type": "markdown",
   "metadata": {},
   "source": [
    "## Clustalo"
   ]
  },
  {
   "cell_type": "code",
   "execution_count": null,
   "metadata": {},
   "outputs": [
    {
     "name": "stdout",
     "output_type": "stream",
     "text": [
      "clustalo-R20220908-110612-0888-61259205-p1m\n",
      "FINISHED\n"
     ]
    }
   ],
   "source": [
    "# submit align job using clustalo\n",
    "r = requests.post(\"https://www.ebi.ac.uk/Tools/services/rest/clustalo/run\", data={\n",
    "    \"email\": \"example@example.com\",\n",
    "    \"iterations\": 0,\n",
    "    \"outfmt\": \"clustal_num\",\n",
    "    \"order\": \"aligned\",\n",
    "    \"sequence\": fasta\n",
    "})\n",
    "\n",
    "job_id = r.text\n",
    "print(job_id)\n",
    "\n",
    "# get job status\n",
    "r = get_url(f\"https://www.ebi.ac.uk/Tools/services/rest/clustalo/status/{job_id}\")\n",
    "print(r.text)"
   ]
  },
  {
   "cell_type": "code",
   "execution_count": null,
   "metadata": {},
   "outputs": [
    {
     "name": "stdout",
     "output_type": "stream",
     "text": [
      "FINISHED\n"
     ]
    }
   ],
   "source": [
    "# Update Job status\n",
    "r = get_url(f\"https://www.ebi.ac.uk/Tools/services/rest/clustalo/status/{job_id}\")\n",
    "print(r.text)"
   ]
  },
  {
   "cell_type": "code",
   "execution_count": null,
   "metadata": {},
   "outputs": [
    {
     "name": "stdout",
     "output_type": "stream",
     "text": [
      "CLUSTAL O(1.2.4) multiple sequence alignment\n",
      "\n",
      "\n",
      "sp|Q7KTX7|PRKN_DROME      MSFIFKFIATFVRKMLELLQFGGKTLTHTLSIYVKTNTGKTLTVNLEPQWDIKNVKELVA\t60\n",
      "sp|O60260|PRKN_HUMAN      -----------------------------MIVFVRFNSSHGFPVEVDSDTSIFQLKEVVA\t31\n",
      "sp|Q9WVS6|PRKN_MOUSE      -----------------------------MIVFVRFNSSYGFPVEVDSDTSILQLKEVVA\t31\n",
      "sp|Q9JK66|PRKN_RAT        -----------------------------MIVFVRFNSSYGFPVEVDSDTSIFQLKEVVA\t31\n",
      "                                                       : ::*: *:.  : *::: : .* ::**:**\n",
      "\n",
      "sp|Q7KTX7|PRKN_DROME      PQLGLQPDDLKIIFAGKELSDATTIEQCDLGQQSVLHAIRLRPPVQRQKIQSATLEEEEP\t120\n",
      "sp|O60260|PRKN_HUMAN      KRQGVPADQLRVIFAGKELRNDWTVQNCDLDQQSIVHIVQRP-WRKGQEMNAT--GGDDP\t88\n",
      "sp|Q9WVS6|PRKN_MOUSE      KRQGVPADQLRVIFAGKELPNHLTVQNCDLEQQSIVHIVQRP-RRRSHETNAS--GGDEP\t88\n",
      "sp|Q9JK66|PRKN_RAT        KRQGVPADQLRVIFAGKELQNHLTVQNCDLEQQSIVHIVQRP-QRKSHETNAS--GGDKP\t88\n",
      "                           : *:  *:*::******* :  *:::*** ***::* ::     : :: :::    :.*\n",
      "\n",
      "sp|Q7KTX7|PRKN_DROME      SLSDEA--SKPL--------------NETLLDLQLESEERLNIT---DEERVRAKAHFFV\t161\n",
      "sp|O60260|PRKN_HUMAN      RNAAGGCEREPQSLTRVDLSSSVLPGDSVGLAVILHTDSRKDSPPAGSPAGRSIYNSFYV\t148\n",
      "sp|Q9WVS6|PRKN_MOUSE      QSTSEGSIWESRSLTRVDLSSHTLPVDSVGLAVILDTDSKRDSEAARGP-VKPTYNSFFI\t147\n",
      "sp|Q9JK66|PRKN_RAT        QSTPEGSIWEPRSLTRVDLSSHILPADSVGLAVILDTDSKSDSEAARGPEAKPTYHSFFV\t148\n",
      "                            :  .   :                :.. * : *.::.: :     .         *::\n",
      "\n",
      "sp|Q7KTX7|PRKN_DROME      HC-SQCDKLCNGKLRVRCALCKGGAFTVHRDPECWDDVLKSRRIPGHCESLEVACVDNAA\t220\n",
      "sp|O60260|PRKN_HUMAN      YCKGPCQRVQPGKLRVQCSTCRQATLTLTQGPSCWDDVLIPNRMSGECQSPHCP------\t202\n",
      "sp|Q9WVS6|PRKN_MOUSE      YCKGPCHKVQPGKLRVQCGTCKQATLTLAQGPSCWDDVLIPNRMSGECQSPDCP------\t201\n",
      "sp|Q9JK66|PRKN_RAT        YCKGPCHKVQPGKLRVQCGTCRQATLTLAQGPSCWDDVLIPNRMSGECQSPDCP------\t202\n",
      "                          :* . *.::  *****:*. *: .::*: :.*.******  .*: *.*:* .        \n",
      "\n",
      "sp|Q7KTX7|PRKN_DROME      GDPPFAEFFFKCAEHVSGGEKDFAAPLNLIKNNIKNVPCLACTDVSDTVLVFPCASQHVT\t280\n",
      "sp|O60260|PRKN_HUMAN      --GTSAEFFFKCGAHPTS-DKETSVALHLIATNSRNITCITCTDVRSPVLVFQCNSRHVI\t259\n",
      "sp|Q9WVS6|PRKN_MOUSE      --GTRAEFFFKCGAHPTS-DKDTSVALNLITSNRRSIPCIACTDVRSPVLVFQCNHRHVI\t258\n",
      "sp|Q9JK66|PRKN_RAT        --GTRAEFFFKCGAHPTS-DKDTSVALNLITNNSRSIPCIACTDVRNPVLVFQCNHRHVI\t259\n",
      "                               *******. * :. :*: :. *:** .* :.: *::**** . **** *  :** \n",
      "\n",
      "sp|Q7KTX7|PRKN_DROME      CIDCFRHYCRSRLGERQFMPHPDFGYTLPCPAGCEHSFIEEIHHFKLLTREEYDRYQRFA\t340\n",
      "sp|O60260|PRKN_HUMAN      CLDCFHLYCVTRLNDRQFVHDPQLGYSLPCVAGCPNSLIKELHHFRILGEEQYNRYQQYG\t319\n",
      "sp|Q9WVS6|PRKN_MOUSE      CLDCFHLYCVTRLNDRQFVHDAQLGYSLPCVAGCPNSLIKELHHFRILGEEQYTRYQQYG\t318\n",
      "sp|Q9JK66|PRKN_RAT        CLDCFHLYCVTRLNDRQFVHDAQLGYSLPCVAGCPNSLIKELHHFRILGEEQYNRYQQYG\t319\n",
      "                          *:***: ** :**.:***: . ::**:*** *** :*:*:*:***::* .*:* ***::.\n",
      "\n",
      "sp|Q7KTX7|PRKN_DROME      TEEYVLQAGGVLCPQPGCGMGLLVEPDCRKVTCQN----GCGYVFCRNCLQGYHIGECLP\t396\n",
      "sp|O60260|PRKN_HUMAN      AEECVLQMGGVLCPRPGCGAGLLPEPDQRKVTCEGGNGLGCGFAFCRECKEAYHEGECSA\t379\n",
      "sp|Q9WVS6|PRKN_MOUSE      AEECVLQMGGVLCPRPGCGAGLLPEQGQRKVTCEGGNGLGCGFVFCRDCKEAYHEGDCDS\t378\n",
      "sp|Q9JK66|PRKN_RAT        AEECVLQMGGVLCPRPGCGAGLLPEQGQKKVTCEGGNGLGCGFVFCRDCKEAYHEGECDS\t379\n",
      "                          :** *** ******:**** *** * . :****:.    ***:.***:* :.** *:*  \n",
      "\n",
      "sp|Q7KTX7|PRKN_DROME      EGTGASATNSCEYTVDPNRAAEARWDEASNVTIKVSTKPCPKCRTPTERDGGCMHMVCTR\t456\n",
      "sp|O60260|PRKN_HUMAN      VF-EASGTTTQAYRVDERAAEQARWEAASKETIKKTTKPCPRCHVPVEKNGGCMHMKCPQ\t438\n",
      "sp|Q9WVS6|PRKN_MOUSE      LL-EPSGATSQAYRVDKRAAEQARWEEASKETIKKTTKPCPRCNVPIEKNGGCMHMKCPQ\t437\n",
      "sp|Q9JK66|PRKN_RAT        MF-EASGATSQAYRVDQRAAEQARWEEASKETIKKTTKPCPRCNVPIEKNGGCMHMKCPQ\t438\n",
      "                               *.:.:  * ** . * :***: **: *** :*****:*..* *::****** * :\n",
      "\n",
      "sp|Q7KTX7|PRKN_DROME      AGCGFEWCWVCQTEWTRDCMGAHWFG-\t482\n",
      "sp|O60260|PRKN_HUMAN      PQCRLEWCWNCGCEWNRVCMGDHWFDV\t465\n",
      "sp|Q9WVS6|PRKN_MOUSE      PQCKLEWCWNCGCEWNRACMGDHWFDV\t464\n",
      "sp|Q9JK66|PRKN_RAT        PQCKLEWCWNCGCEWNRACMGDHWFDV\t465\n",
      "                            * :**** *  **.* *** ***. \n",
      "\n"
     ]
    }
   ],
   "source": [
    "# Result of clustal alignment\n",
    "r = get_url(f\"https://www.ebi.ac.uk/Tools/services/rest/clustalo/result/{job_id}/aln-clustal_num\")\n",
    "print(r.text)"
   ]
  },
  {
   "cell_type": "code",
   "execution_count": null,
   "metadata": {},
   "outputs": [
    {
     "name": "stdout",
     "output_type": "stream",
     "text": [
      "{\"url\":\"http://rest.uniprot.org/uniprotkb/stream\",\"messages\":[\"Invalid request received. Requested media type/format not accepted: 'text/list'.\"]}\n"
     ]
    },
    {
     "ename": "HTTPError",
     "evalue": "400 Client Error: Bad Request for url: https://rest.uniprot.org/uniprotkb/stream?query=parkin%20AND%20(taxonomy_id:40674)",
     "output_type": "error",
     "traceback": [
      "\u001b[0;31m---------------------------------------------------------------------------\u001b[0m",
      "\u001b[0;31mHTTPError\u001b[0m                                 Traceback (most recent call last)",
      "\u001b[0;32m<ipython-input-60-047c8faf02c1>\u001b[0m in \u001b[0;36m<module>\u001b[0;34m\u001b[0m\n\u001b[1;32m      2\u001b[0m \u001b[0;34m\u001b[0m\u001b[0m\n\u001b[1;32m      3\u001b[0m \u001b[0;31m# Search through all mammalia\u001b[0m\u001b[0;34m\u001b[0m\u001b[0;34m\u001b[0m\u001b[0;34m\u001b[0m\u001b[0m\n\u001b[0;32m----> 4\u001b[0;31m \u001b[0mr\u001b[0m \u001b[0;34m=\u001b[0m \u001b[0mget_url\u001b[0m\u001b[0;34m(\u001b[0m\u001b[0;34mf\"{WEBSITE_API}/uniprotkb/stream?query=parkin AND (taxonomy_id:40674)\"\u001b[0m\u001b[0;34m,\u001b[0m \u001b[0mheaders\u001b[0m\u001b[0;34m=\u001b[0m\u001b[0;34m{\u001b[0m\u001b[0;34m\"Accept\"\u001b[0m\u001b[0;34m:\u001b[0m \u001b[0;34m\"text/list\"\u001b[0m\u001b[0;34m}\u001b[0m\u001b[0;34m)\u001b[0m\u001b[0;34m\u001b[0m\u001b[0;34m\u001b[0m\u001b[0m\n\u001b[0m\u001b[1;32m      5\u001b[0m \u001b[0maccessions\u001b[0m \u001b[0;34m=\u001b[0m \u001b[0mr\u001b[0m\u001b[0;34m.\u001b[0m\u001b[0mtext\u001b[0m\u001b[0;34m.\u001b[0m\u001b[0mreplace\u001b[0m\u001b[0;34m(\u001b[0m\u001b[0;34m\"\\n\"\u001b[0m\u001b[0;34m,\u001b[0m \u001b[0;34m\",\"\u001b[0m\u001b[0;34m)\u001b[0m\u001b[0;34m.\u001b[0m\u001b[0mstrip\u001b[0m\u001b[0;34m(\u001b[0m\u001b[0;34m)\u001b[0m\u001b[0;34m\u001b[0m\u001b[0;34m\u001b[0m\u001b[0m\n\u001b[1;32m      6\u001b[0m \u001b[0;34m\u001b[0m\u001b[0m\n",
      "\u001b[0;32m<ipython-input-52-a0a532618728>\u001b[0m in \u001b[0;36mget_url\u001b[0;34m(url, **kwargs)\u001b[0m\n\u001b[1;32m     11\u001b[0m   \u001b[0;32mif\u001b[0m \u001b[0;32mnot\u001b[0m \u001b[0mresponse\u001b[0m\u001b[0;34m.\u001b[0m\u001b[0mok\u001b[0m\u001b[0;34m:\u001b[0m\u001b[0;34m\u001b[0m\u001b[0;34m\u001b[0m\u001b[0m\n\u001b[1;32m     12\u001b[0m     \u001b[0mprint\u001b[0m\u001b[0;34m(\u001b[0m\u001b[0mresponse\u001b[0m\u001b[0;34m.\u001b[0m\u001b[0mtext\u001b[0m\u001b[0;34m)\u001b[0m\u001b[0;34m\u001b[0m\u001b[0;34m\u001b[0m\u001b[0m\n\u001b[0;32m---> 13\u001b[0;31m     \u001b[0mresponse\u001b[0m\u001b[0;34m.\u001b[0m\u001b[0mraise_for_status\u001b[0m\u001b[0;34m(\u001b[0m\u001b[0;34m)\u001b[0m\u001b[0;34m\u001b[0m\u001b[0;34m\u001b[0m\u001b[0m\n\u001b[0m\u001b[1;32m     14\u001b[0m     \u001b[0msys\u001b[0m\u001b[0;34m.\u001b[0m\u001b[0mexit\u001b[0m\u001b[0;34m(\u001b[0m\u001b[0;34m)\u001b[0m\u001b[0;34m\u001b[0m\u001b[0;34m\u001b[0m\u001b[0m\n\u001b[1;32m     15\u001b[0m \u001b[0;34m\u001b[0m\u001b[0m\n",
      "\u001b[0;32m/usr/lib/python3/dist-packages/requests/models.py\u001b[0m in \u001b[0;36mraise_for_status\u001b[0;34m(self)\u001b[0m\n\u001b[1;32m    938\u001b[0m \u001b[0;34m\u001b[0m\u001b[0m\n\u001b[1;32m    939\u001b[0m         \u001b[0;32mif\u001b[0m \u001b[0mhttp_error_msg\u001b[0m\u001b[0;34m:\u001b[0m\u001b[0;34m\u001b[0m\u001b[0;34m\u001b[0m\u001b[0m\n\u001b[0;32m--> 940\u001b[0;31m             \u001b[0;32mraise\u001b[0m \u001b[0mHTTPError\u001b[0m\u001b[0;34m(\u001b[0m\u001b[0mhttp_error_msg\u001b[0m\u001b[0;34m,\u001b[0m \u001b[0mresponse\u001b[0m\u001b[0;34m=\u001b[0m\u001b[0mself\u001b[0m\u001b[0;34m)\u001b[0m\u001b[0;34m\u001b[0m\u001b[0;34m\u001b[0m\u001b[0m\n\u001b[0m\u001b[1;32m    941\u001b[0m \u001b[0;34m\u001b[0m\u001b[0m\n\u001b[1;32m    942\u001b[0m     \u001b[0;32mdef\u001b[0m \u001b[0mclose\u001b[0m\u001b[0;34m(\u001b[0m\u001b[0mself\u001b[0m\u001b[0;34m)\u001b[0m\u001b[0;34m:\u001b[0m\u001b[0;34m\u001b[0m\u001b[0;34m\u001b[0m\u001b[0m\n",
      "\u001b[0;31mHTTPError\u001b[0m: 400 Client Error: Bad Request for url: https://rest.uniprot.org/uniprotkb/stream?query=parkin%20AND%20(taxonomy_id:40674)"
     ]
    }
   ],
   "source": [
    "# ID mapping flow\n",
    "\n",
    "# Search through all mammalia\n",
    "r = get_url(f\"{WEBSITE_API}/uniprotkb/stream?query=parkin AND (taxonomy_id:40674)\", headers={\"Accept\": \"text/list\"})\n",
    "accessions = r.text.replace(\"\\n\", \",\").strip()\n",
    "\n",
    "print(\"accessions:\", accessions)\n",
    "\n",
    "# Send job to ID mapping endpoint\n",
    "r = requests.post(f\"{WEBSITE_API}/idmapping/run\", data={\"from\": \"UniProtKB_AC-ID\", \"to\": \"ChEMBL\", \"ids\": accessions})\n",
    "job_id = r.json()['jobId']\n",
    "\n",
    "print(\"job ID:\", job_id)\n",
    "\n",
    "r = get_url(f\"{WEBSITE_API}/idmapping/status/{job_id}\")\n",
    "print(json.dumps(r.json(), indent=2))"
   ]
  },
  {
   "cell_type": "markdown",
   "metadata": {},
   "source": [
    "## ID Mapping flow"
   ]
  },
  {
   "cell_type": "code",
   "execution_count": null,
   "metadata": {},
   "outputs": [
    {
     "data": {
      "text/plain": [
       "'# Search through all mammalia\\n#r = get_url(f\"{web_api}/uniprotkb/stream?query=parkin AND (taxonomy_id:40674)\", headers={\"Accept\": \"text/list\"})\\nquery = \"P33527\"\\nr = get_url(f\"{web_api}/uniprotkb/stream?query={query}\", headers={\"Accept\": \"text/list\"})\\naccessions = r.text.replace(\"\\n\", \",\").strip()\\n\\nprint(\"accessions:\", accessions)\\n\\n# Send job to ID mapping endpoint\\nr = requests.post(f\"{web_api}/idmapping/run\", data={\"from\": \"UniProtKB_AC-ID\", \"to\": \"ChEMBL\", \"ids\": accessions})\\njob_id = r.json()[\\'jobId\\']\\n\\nprint(\"job ID:\", job_id)\\n\\nr = get_url(f\"{web_api}/idmapping/status/{job_id}\")\\nprint(json.dumps(r.json(), indent=2))'"
      ]
     },
     "execution_count": 44,
     "metadata": {},
     "output_type": "execute_result"
    }
   ],
   "source": [
    "\"\"\"# Search through all mammalia\n",
    "#r = get_url(f\"{web_api}/uniprotkb/stream?query=parkin AND (taxonomy_id:40674)\", headers={\"Accept\": \"text/list\"})\n",
    "query = \"P33527\"\n",
    "r = get_url(f\"{web_api}/uniprotkb/stream?query={query}\", headers={\"Accept\": \"text/list\"})\n",
    "accessions = r.text.replace(\"\\n\", \",\").strip()\n",
    "\n",
    "print(\"accessions:\", accessions)\n",
    "\n",
    "# Send job to ID mapping endpoint\n",
    "r = requests.post(f\"{web_api}/idmapping/run\", data={\"from\": \"UniProtKB_AC-ID\", \"to\": \"ChEMBL\", \"ids\": accessions})\n",
    "job_id = r.json()['jobId']\n",
    "\n",
    "print(\"job ID:\", job_id)\n",
    "\n",
    "r = get_url(f\"{web_api}/idmapping/status/{job_id}\")\n",
    "print(json.dumps(r.json(), indent=2))\"\"\""
   ]
  },
  {
   "cell_type": "markdown",
   "metadata": {},
   "source": [
    "## Visual Exercise"
   ]
  },
  {
   "cell_type": "code",
   "execution_count": null,
   "metadata": {},
   "outputs": [
    {
     "name": "stdout",
     "output_type": "stream",
     "text": [
      "175212 {'entryType': 'UniProtKB reviewed (Swiss-Prot)', 'primaryAccession': 'A0A078CGE6', 'annotationScore': 5.0, 'comments': [{'texts': [{'evidences': [{'evidenceCode': 'ECO:0000250', 'source': 'UniProtKB', 'id': 'Q9LJD8'}, {'evidenceCode': 'ECO:0000269', 'source': 'PubMed', 'id': '11489177'}], 'value': 'Serine/threonine-protein kinase involved in the spatial and temporal control system organizing cortical activities in mitotic and postmitotic cells (PubMed:11489177). Required for the normal functioning of the plasma membrane in developing pollen. Involved in the regulation of cell expansion and embryo development (By similarity)'}], 'commentType': 'FUNCTION'}], 'sequence': {'length': 1299, 'molWeight': 143609}}\n"
     ]
    }
   ],
   "source": [
    "query  = \"parkin\"\n",
    "fields = \"&fields=mass,reviewed,length,cc_function,annotation_score\"\n",
    "\n",
    "r = get_url(f\"{web_api}/uniprotkb/stream?query={query}{fields}\")\n",
    "data = r.json()\n",
    "\n",
    "print(len(data[\"results\"]), data[\"results\"][0])"
   ]
  },
  {
   "cell_type": "code",
   "execution_count": null,
   "metadata": {},
   "outputs": [
    {
     "ename": "ModuleNotFoundError",
     "evalue": "No module named 'matplotlib'",
     "output_type": "error",
     "traceback": [
      "\u001b[0;31m---------------------------------------------------------------------------\u001b[0m",
      "\u001b[0;31mModuleNotFoundError\u001b[0m                       Traceback (most recent call last)",
      "\u001b[0;32m<ipython-input-46-38927b1e7641>\u001b[0m in \u001b[0;36m<module>\u001b[0;34m\u001b[0m\n\u001b[0;32m----> 1\u001b[0;31m \u001b[0;32mimport\u001b[0m \u001b[0mmatplotlib\u001b[0m\u001b[0;34m.\u001b[0m\u001b[0mpyplot\u001b[0m \u001b[0;32mas\u001b[0m \u001b[0mplt\u001b[0m\u001b[0;34m\u001b[0m\u001b[0;34m\u001b[0m\u001b[0m\n\u001b[0m\u001b[1;32m      2\u001b[0m \u001b[0;34m\u001b[0m\u001b[0m\n\u001b[1;32m      3\u001b[0m \u001b[0mreviewed\u001b[0m \u001b[0;34m=\u001b[0m \u001b[0;34m[\u001b[0m\u001b[0;34m\"grey\"\u001b[0m \u001b[0;32mif\u001b[0m \u001b[0;34m\"unreviewed\"\u001b[0m \u001b[0;32min\u001b[0m \u001b[0mentry\u001b[0m\u001b[0;34m[\u001b[0m\u001b[0;34m\"entryType\"\u001b[0m\u001b[0;34m]\u001b[0m \u001b[0;32melse\u001b[0m \u001b[0;34m\"gold\"\u001b[0m \u001b[0;32mfor\u001b[0m \u001b[0mentry\u001b[0m \u001b[0;32min\u001b[0m \u001b[0mdata\u001b[0m\u001b[0;34m[\u001b[0m\u001b[0;34m\"results\"\u001b[0m\u001b[0;34m]\u001b[0m\u001b[0;34m]\u001b[0m\u001b[0;34m\u001b[0m\u001b[0;34m\u001b[0m\u001b[0m\n\u001b[1;32m      4\u001b[0m \u001b[0;34m\u001b[0m\u001b[0m\n\u001b[1;32m      5\u001b[0m \u001b[0mmass\u001b[0m \u001b[0;34m=\u001b[0m \u001b[0;34m[\u001b[0m\u001b[0mentry\u001b[0m\u001b[0;34m[\u001b[0m\u001b[0;34m\"sequence\"\u001b[0m\u001b[0;34m]\u001b[0m\u001b[0;34m[\u001b[0m\u001b[0;34m\"molWeight\"\u001b[0m\u001b[0;34m]\u001b[0m \u001b[0;32mfor\u001b[0m \u001b[0mentry\u001b[0m \u001b[0;32min\u001b[0m \u001b[0mdata\u001b[0m\u001b[0;34m[\u001b[0m\u001b[0;34m\"results\"\u001b[0m\u001b[0;34m]\u001b[0m\u001b[0;34m]\u001b[0m\u001b[0;34m\u001b[0m\u001b[0;34m\u001b[0m\u001b[0m\n",
      "\u001b[0;31mModuleNotFoundError\u001b[0m: No module named 'matplotlib'"
     ]
    }
   ],
   "source": [
    "import matplotlib.pyplot as plt\n",
    "\n",
    "reviewed = [\"grey\" if \"unreviewed\" in entry[\"entryType\"] else \"gold\" for entry in data[\"results\"]]\n",
    "\n",
    "mass = [entry[\"sequence\"][\"molWeight\"] for entry in data[\"results\"]]\n",
    "plt.hist(mass, bins=100)\n",
    "plt.show()\n",
    "\n",
    "length = [entry[\"sequence\"][\"length\"] for entry in data[\"results\"]]\n",
    "plt.hist(length, bins=100)\n",
    "plt.show()\n",
    "\n",
    "n_function = [len(entry.get(\"comments\", [])) for entry in data[\"results\"]]\n",
    "plt.hist(n_function, bins=100)\n",
    "plt.show()\n",
    "\n",
    "score = [entry[\"annotationScore\"] for entry in data[\"results\"]]\n",
    "plt.hist(score, bins=100)\n",
    "plt.show()"
   ]
  },
  {
   "cell_type": "code",
   "execution_count": null,
   "metadata": {},
   "outputs": [],
   "source": [
    "plt.scatter(length, mass, alpha=0.3)\n",
    "plt.xlabel(\"length (aa)\")\n",
    "plt.ylabel(\"mass (Da)\")\n",
    "plt.show()\n",
    "\n",
    "plt.scatter(length, n_function, c=reviewed, alpha=0.3)\n",
    "plt.xlabel(\"length (aa)\")\n",
    "plt.ylabel(\"# function comments\")\n",
    "plt.show()\n",
    "\n",
    "plt.scatter(score, n_function, c=reviewed, alpha=0.3)\n",
    "plt.xlabel(\"annotation score\")\n",
    "plt.ylabel(\"# function comments\")\n",
    "plt.show()"
   ]
  },
  {
   "cell_type": "markdown",
   "metadata": {},
   "source": [
    "# Test Example"
   ]
  },
  {
   "cell_type": "markdown",
   "metadata": {},
   "source": [
    "Retrieve ID & Name of List of Proteins ! "
   ]
  },
  {
   "cell_type": "code",
   "execution_count": null,
   "metadata": {},
   "outputs": [
    {
     "name": "stdout",
     "output_type": "stream",
     "text": [
      "P33527,P12337,P14174,P25024,P25025\n"
     ]
    }
   ],
   "source": [
    "import requests, sys, json\n",
    "\n",
    "web_api = \"https://rest.uniprot.org\"\n",
    "\n",
    "#accessions = [\"P33527\", \"P12337\", \"P14174\",\"P25024\",\"P25025\"]\n",
    "accessions = ['P14174', 'P33527', 'P12337', 'P14174', 'P25024', 'P25025']\n",
    "a_name_1     = \",\".join(accessions)\n",
    "print(q_name_1)\n",
    "a_name_2  = \"P12337\"\n",
    "#q_field = \"&fields=id,accession,length,protein_name,reviewed,gene,organism\"\n",
    "a_field=\"\"\n",
    "#q_field = \"&fields=id,accession,length,protein_name,organism_name\"\n",
    "# Helper function to download data\n",
    "def get_url(url, **kwargs):\n",
    "  response = requests.get(url, **kwargs);\n",
    "\n",
    "  if not response.ok:\n",
    "    print(response.text)\n",
    "    response.raise_for_status()\n",
    "    sys.exit()\n",
    "\n",
    "  return response"
   ]
  },
  {
   "cell_type": "code",
   "execution_count": null,
   "metadata": {},
   "outputs": [
    {
     "name": "stdout",
     "output_type": "stream",
     "text": [
      "Entry\tEntry Name\tReviewed\tProtein names\tGene Names\tOrganism\tLength\n",
      "P33527\tMRP1_HUMAN\treviewed\tMultidrug resistance-associated protein 1 (EC 7.6.2.2) (ATP-binding cassette sub-family C member 1) (Glutathione-S-conjugate-translocating ATPase ABCC1) (EC 7.6.2.3) (Leukotriene C(4) transporter) (LTC4 transporter)\tABCC1 MRP MRP1\tHomo sapiens (Human)\t1531\n",
      "P12337\tEST1_RABIT\treviewed\tLiver carboxylesterase 1 (EC 3.1.1.1) (Acyl-coenzyme A:cholesterol acyltransferase)\t\tOryctolagus cuniculus (Rabbit)\t565\n",
      "P14174\tMIF_HUMAN\treviewed\tMacrophage migration inhibitory factor (MIF) (EC 5.3.2.1) (Glycosylation-inhibiting factor) (GIF) (L-dopachrome isomerase) (L-dopachrome tautomerase) (EC 5.3.3.12) (Phenylpyruvate tautomerase)\tMIF GLIF MMIF\tHomo sapiens (Human)\t115\n",
      "P25024\tCXCR1_HUMAN\treviewed\tC-X-C chemokine receptor type 1 (CXC-R1) (CXCR-1) (CDw128a) (High affinity interleukin-8 receptor A) (IL-8R A) (IL-8 receptor type 1) (CD antigen CD181)\tCXCR1 CMKAR1 IL8RA\tHomo sapiens (Human)\t350\n",
      "P25025\tCXCR2_HUMAN\treviewed\tC-X-C chemokine receptor type 2 (CXC-R2) (CXCR-2) (CDw128b) (GRO/MGSA receptor) (High affinity interleukin-8 receptor B) (IL-8R B) (IL-8 receptor type 2) (CD antigen CD182)\tCXCR2 IL8RB\tHomo sapiens (Human)\t360\n",
      "\n"
     ]
    }
   ],
   "source": [
    "# r = get_url(f\"{web_api}/uniprotkb/accessions?accessions={a_name}{a_field}&size=1\")\n",
    "# r = get_url(f\"{web_api}/uniprotkb/accessions?accessions={a_name}{a_field}&size=1&format=xml\")\n",
    "# r = get_url(f\"{web_api}/uniprotkb/accessions?accessions={a_name}{a_field}&size=1\", headers={\"Accept\": \"application/xml\"})\n",
    "# r = get_url(f\"{web_api}/uniprotkb/accessions?accessions={a_name}{a_field}\", headers={\"Accept\": \"text/plain; format=list\"})\n",
    "# r = get_url(f\"{web_api}/uniprotkb/accessions?accessions={a_name}{a_field}\", headers={\"Accept\": \"text/plain; format=fasta\"})\n",
    "r = get_url(f\"{web_api}/uniprotkb/accessions?accessions={a_name_1}{a_field}\", headers={\"Accept\": \"text/plain; format=tsv\"})\n",
    "print(r.text)"
   ]
  },
  {
   "cell_type": "code",
   "execution_count": null,
   "metadata": {},
   "outputs": [
    {
     "name": "stdout",
     "output_type": "stream",
     "text": [
      "Entry\tEntry Name\tReviewed\tProtein names\tGene Names\tOrganism\tLength\n",
      "P12337\tEST1_RABIT\treviewed\tLiver carboxylesterase 1 (EC 3.1.1.1) (Acyl-coenzyme A:cholesterol acyltransferase)\t\tOryctolagus cuniculus (Rabbit)\t565\n",
      "\n"
     ]
    }
   ],
   "source": [
    "r = get_url(f\"{web_api}/uniprotkb/accessions?accessions={a_name_2}{q_field}\", headers={\"Accept\": \"text/plain; format=tsv\"})\n",
    "print(r.text)"
   ]
  },
  {
   "cell_type": "code",
   "execution_count": null,
   "metadata": {},
   "outputs": [
    {
     "ename": "NameError",
     "evalue": "name 'get_url' is not defined",
     "output_type": "error",
     "traceback": [
      "\u001b[0;31m---------------------------------------------------------------------------\u001b[0m",
      "\u001b[0;31mNameError\u001b[0m                                 Traceback (most recent call last)",
      "\u001b[1;32m/home/ddalton/Documents/tutorials/python/python/uniprot_api/Uniprot_API.ipynb Cell 47\u001b[0m in \u001b[0;36m<cell line: 11>\u001b[0;34m()\u001b[0m\n\u001b[1;32m      <a href='vscode-notebook-cell:/home/ddalton/Documents/tutorials/python/python/uniprot_api/Uniprot_API.ipynb#X64sZmlsZQ%3D%3D?line=3'>4</a>\u001b[0m joined \u001b[39m=\u001b[39m \u001b[39m\"\u001b[39m\u001b[39m,\u001b[39m\u001b[39m\"\u001b[39m\u001b[39m.\u001b[39mjoin(accessions)\n\u001b[1;32m      <a href='vscode-notebook-cell:/home/ddalton/Documents/tutorials/python/python/uniprot_api/Uniprot_API.ipynb#X64sZmlsZQ%3D%3D?line=5'>6</a>\u001b[0m \u001b[39m# get the natural variants information\u001b[39;00m\n\u001b[1;32m      <a href='vscode-notebook-cell:/home/ddalton/Documents/tutorials/python/python/uniprot_api/Uniprot_API.ipynb#X64sZmlsZQ%3D%3D?line=6'>7</a>\u001b[0m \u001b[39m# r = get_url(f\"{web_api}/uniprotkb/accessions?accessions={joined}&fields=ft_variant,organism_name\")\u001b[39;00m\n\u001b[1;32m      <a href='vscode-notebook-cell:/home/ddalton/Documents/tutorials/python/python/uniprot_api/Uniprot_API.ipynb#X64sZmlsZQ%3D%3D?line=7'>8</a>\u001b[0m \u001b[39m# print(json.dumps(r.json(), indent=2))\u001b[39;00m\n\u001b[1;32m      <a href='vscode-notebook-cell:/home/ddalton/Documents/tutorials/python/python/uniprot_api/Uniprot_API.ipynb#X64sZmlsZQ%3D%3D?line=8'>9</a>\u001b[0m \n\u001b[1;32m     <a href='vscode-notebook-cell:/home/ddalton/Documents/tutorials/python/python/uniprot_api/Uniprot_API.ipynb#X64sZmlsZQ%3D%3D?line=9'>10</a>\u001b[0m \u001b[39m# get FASTA of these entries\u001b[39;00m\n\u001b[0;32m---> <a href='vscode-notebook-cell:/home/ddalton/Documents/tutorials/python/python/uniprot_api/Uniprot_API.ipynb#X64sZmlsZQ%3D%3D?line=10'>11</a>\u001b[0m r \u001b[39m=\u001b[39m get_url(\u001b[39mf\u001b[39m\u001b[39m\"\u001b[39m\u001b[39m{\u001b[39;00mweb_api\u001b[39m}\u001b[39;00m\u001b[39m/uniprotkb/accessions?accessions=\u001b[39m\u001b[39m{\u001b[39;00mjoined\u001b[39m}\u001b[39;00m\u001b[39m\"\u001b[39m)\n\u001b[1;32m     <a href='vscode-notebook-cell:/home/ddalton/Documents/tutorials/python/python/uniprot_api/Uniprot_API.ipynb#X64sZmlsZQ%3D%3D?line=11'>12</a>\u001b[0m fasta \u001b[39m=\u001b[39m r\u001b[39m.\u001b[39mtext\n\u001b[1;32m     <a href='vscode-notebook-cell:/home/ddalton/Documents/tutorials/python/python/uniprot_api/Uniprot_API.ipynb#X64sZmlsZQ%3D%3D?line=12'>13</a>\u001b[0m \u001b[39mprint\u001b[39m(fasta)\n",
      "\u001b[0;31mNameError\u001b[0m: name 'get_url' is not defined"
     ]
    }
   ],
   "source": [
    "# manually selected ones\n",
    "accessions = [\"O60260\", \"Q9JK66\"]\n",
    "accessions = [\"P33527\", \"P12337\",\"P25025\"]\n",
    "joined = \",\".join(accessions)\n",
    "\n",
    "# get the natural variants information\n",
    "# r = get_url(f\"{web_api}/uniprotkb/accessions?accessions={joined}&fields=ft_variant,organism_name\")\n",
    "# print(json.dumps(r.json(), indent=2))\n",
    "\n",
    "# get FASTA of these entries\n",
    "r = get_url(f\"{web_api}/uniprotkb/accessions?accessions={joined}\")\n",
    "fasta = r.text\n",
    "print(fasta)"
   ]
  }
 ],
 "metadata": {
  "kernelspec": {
   "display_name": "Python 3.10.6 ('rdkit')",
   "language": "python",
   "name": "python3"
  },
  "language_info": {
   "codemirror_mode": {
    "name": "ipython",
    "version": 3
   },
   "file_extension": ".py",
   "mimetype": "text/x-python",
   "name": "python",
   "nbconvert_exporter": "python",
   "pygments_lexer": "ipython3",
   "version": "3.10.6"
  },
  "orig_nbformat": 4,
  "vscode": {
   "interpreter": {
    "hash": "f5ea3a59fc06fb9931f3479199ca2ee7bce78365b6916716a063fd31f0322aa4"
   }
  }
 },
 "nbformat": 4,
 "nbformat_minor": 2
}
